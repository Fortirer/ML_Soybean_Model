{
  "nbformat": 4,
  "nbformat_minor": 0,
  "metadata": {
    "colab": {
      "provenance": [],
      "authorship_tag": "ABX9TyPugt6fX6Ddxy/vephoqXam",
      "include_colab_link": true
    },
    "kernelspec": {
      "name": "python3",
      "display_name": "Python 3"
    },
    "language_info": {
      "name": "python"
    }
  },
  "cells": [
    {
      "cell_type": "markdown",
      "metadata": {
        "id": "view-in-github",
        "colab_type": "text"
      },
      "source": [
        "<a href=\"https://colab.research.google.com/github/Fortirer/ML_Soybean_Model/blob/main/RandomSample.ipynb\" target=\"_parent\"><img src=\"https://colab.research.google.com/assets/colab-badge.svg\" alt=\"Open In Colab\"/></a>"
      ]
    },
    {
      "cell_type": "code",
      "execution_count": 2,
      "metadata": {
        "colab": {
          "base_uri": "https://localhost:8080/"
        },
        "id": "IhbQQLro9-_S",
        "outputId": "8f70edce-0600-42f9-ac66-d7f1af101f0d"
      },
      "outputs": [
        {
          "output_type": "stream",
          "name": "stdout",
          "text": [
            "Números sorteados: [8, 3, 1, 5, 10, 7]\n"
          ]
        }
      ],
      "source": [
        "import random\n",
        "\n",
        "# Define a semente fixa (pode ser qualquer número)\n",
        "semente_fixa = 42\n",
        "random.seed(semente_fixa)\n",
        "sequencia_numeros = [1,3,4,5,5,5,7,8,8,10,8]\n",
        "\n",
        "# Realiza o sorteio de 6 números aleatórios\n",
        "numeros_sorteio = random.sample(sequencia_numeros, 6)\n",
        "\n",
        "# Imprime os números sorteados\n",
        "print(\"Números sorteados:\", numeros_sorteio)\n"
      ]
    }
  ]
}